{
 "cells": [
  {
   "cell_type": "markdown",
   "metadata": {
    "colab_type": "text",
    "id": "view-in-github"
   },
   "source": [
    "<a href=\"https://colab.research.google.com/github/TongSii/hds5210-2025/blob/main/week08/week08_assignment_review.ipynb\" target=\"_parent\"><img src=\"https://colab.research.google.com/assets/colab-badge.svg\" alt=\"Open In Colab\"/></a>"
   ]
  },
  {
   "cell_type": "markdown",
   "metadata": {
    "id": "utL_Lon5MOpU"
   },
   "source": [
    "# Week 8 Exercises\n",
    "\n",
    "_McKinney 6.1_\n",
    "\n",
    "\n",
    "This week has been all about getting information off the internet both in structured data formats (CSV, JSON, etc) as well as HTML.  More and more data is being made publicly available on the internet.  These data sources are especially useful for making connections between real-world operational projects and government reported data.\n",
    "\n",
    "Test your knowledge of the content from the lectures through the multiple choice questions below.\n",
    "\n",
    "---\n",
    "---"
   ]
  },
  {
   "cell_type": "markdown",
   "metadata": {
    "id": "1Qds3IqyMOpW"
   },
   "source": [
    "## A: HealthData.gov\n",
    "\n",
    "Go to [healthdata.gov](http://www.healthdata.gov) and search \"all FDA recalls\" to see if you can finda any information about recalls from the Food & Drug Administration.  Use the information you find about this data source to answer the questions below.\n",
    "\n",
    "\n",
    "### 31.1 The All FDA Recalls data is available in what file type?\n",
    "\n",
    "> A) CSV\n",
    ">\n",
    "> B) Excel\n",
    ">\n",
    "> C) XML\n",
    ">\n",
    "> D) JSON"
   ]
  },
  {
   "cell_type": "code",
   "execution_count": 1,
   "metadata": {
    "id": "S6JEDBwCMOpX"
   },
   "outputs": [],
   "source": [
    "answers = {}\n",
    "answers[\"31.1\"] = \"c\""
   ]
  },
  {
   "cell_type": "markdown",
   "metadata": {
    "id": "JTV9AnphMOpX"
   },
   "source": [
    "### 31.2 Which of the following is a major challenge with this open government entry?\n",
    "\n",
    "> A) The data has not been updated in more than 10 years\n",
    ">\n",
    "> B) The link to access the actual data file is broken\n",
    ">\n",
    "> C) The data set has no listed owner\n",
    ">\n",
    "> D) The data is classified as secret"
   ]
  },
  {
   "cell_type": "code",
   "execution_count": 2,
   "metadata": {
    "id": "X6GJ5ezQMOpY"
   },
   "outputs": [],
   "source": [
    "answers[\"31.2\"] = [\"A\", \"B\"]"
   ]
  },
  {
   "cell_type": "markdown",
   "metadata": {
    "id": "sw06puGTMOpZ"
   },
   "source": [
    "## B: Kaggle.com\n",
    "\n",
    "Go to [Kaggle.com](http://kaggle.com) and search datasets for a dataset called **Student Mental health** that was created by the user **MD SHARIFUL ISLAM**, then answer the questions below regarding that entry.\n",
    "\n",
    "### 31.3 The data for this project has only 1 file. How many columns (features) does that dataset have?\n",
    "\n",
    "> A) 10\n",
    ">\n",
    "> B) 1\n",
    ">\n",
    "> C) 11\n",
    ">\n",
    "> D) 41\n"
   ]
  },
  {
   "cell_type": "code",
   "execution_count": 3,
   "metadata": {
    "id": "xC_AWZsWMOpZ"
   },
   "outputs": [],
   "source": [
    "answers[\"31.3\"] = \"C\""
   ]
  },
  {
   "cell_type": "markdown",
   "metadata": {
    "id": "WpdGmWCkMOpZ"
   },
   "source": [
    "### 31.4 Which of the following columns are included in that dataset?\n",
    "\n",
    "> A) Marital Status\n",
    ">\n",
    "> B) Do you have Anxiety?\n",
    ">\n",
    "> C) Gender\n",
    ">\n",
    "> D) Race / Ethnicity"
   ]
  },
  {
   "cell_type": "code",
   "execution_count": 4,
   "metadata": {
    "id": "RQ2oiz4qMOpZ"
   },
   "outputs": [],
   "source": [
    "answers[\"31.4\"] = [\"A\",\"B\",\"C\"]"
   ]
  },
  {
   "cell_type": "markdown",
   "metadata": {
    "id": "2iIWFmPYMOpa"
   },
   "source": [
    "## C: HTML\n",
    "\n",
    "### 32.1 HTML is a form of which other data format we've already discussed?\n",
    "\n",
    "> A) Binary\n",
    ">\n",
    "> B) eXtensible Markup Language\n",
    ">\n",
    "> C) JavaScript Object Notation\n",
    ">\n",
    "> D) HL7 FHIR\n"
   ]
  },
  {
   "cell_type": "code",
   "execution_count": 5,
   "metadata": {
    "id": "WzSw30UbMOpa"
   },
   "outputs": [],
   "source": [
    "answers[\"32.1\"] = \"B\""
   ]
  },
  {
   "cell_type": "markdown",
   "metadata": {
    "id": "JoFRW-VZMOpa"
   },
   "source": [
    "### 32.2 Which of the following is **not** a term associated with HTML?\n",
    "\n",
    "> A) dictionary\n",
    ">\n",
    "> B) tag\n",
    ">\n",
    "> C) element\n",
    ">\n",
    "> D) attribute"
   ]
  },
  {
   "cell_type": "code",
   "execution_count": 6,
   "metadata": {
    "id": "pHdUo2zLMOpb"
   },
   "outputs": [],
   "source": [
    "answers[\"32.2\"] = \"A\""
   ]
  },
  {
   "cell_type": "markdown",
   "metadata": {
    "id": "LHmp14GIMOpb"
   },
   "source": [
    "### 32.3 Which of these packages can be used to extract a table of data from HTML using Python?\n",
    "\n",
    "> A) lxml\n",
    ">\n",
    "> B) BeautifulSoup\n",
    ">\n",
    "> C) Pandas\n",
    ">\n",
    "> D) All of the above"
   ]
  },
  {
   "cell_type": "code",
   "execution_count": 5,
   "metadata": {
    "id": "uCRn4CGkMOpb"
   },
   "outputs": [],
   "source": [
    "answers[\"32.3\"] = \"D\""
   ]
  },
  {
   "cell_type": "markdown",
   "metadata": {
    "id": "4O0oLLpQMOpb"
   },
   "source": [
    "---\n",
    "\n",
    "Checking Your Work\n",
    "---\n",
    "\n",
    "After completing your work above and running each cell, you can check your answers by running the code below.\n",
    "\n",
    "The easiest way to do this is to use the `Kernel` -> `Restart Kernel and Run All Cells` menu option. This option restarts Python and runs every cell from top to bottom until it encounters an exception of some kind.  It will stop after running the cell below and outputing a summary of how many answers you have correct or incorrect.\n"
   ]
  },
  {
   "cell_type": "code",
   "execution_count": 6,
   "metadata": {
    "colab": {
     "base_uri": "https://localhost:8080/"
    },
    "id": "gPmiRf4AMOpb",
    "outputId": "f493e6b2-30f3-4b90-b7a5-c720ab2d8d36"
   },
   "outputs": [
    {
     "name": "stdout",
     "output_type": "stream",
     "text": [
      "✓ Question 31.1: Correct\n",
      "✗ Question 31.2: Incorrect\n",
      "✓ Question 31.3: Correct\n",
      "✓ Question 31.4: Correct\n",
      "✗ Question 32.1: Incorrect\n",
      "✗ Question 32.2: Incorrect\n",
      "✓ Question 32.3: Correct\n",
      "\n",
      "Score: 4/7  (57.14%)\n"
     ]
    },
    {
     "data": {
      "text/plain": [
       "{'ok': True,\n",
       " 'score': 4,\n",
       " 'total': 7,\n",
       " 'pct': 57.14,\n",
       " 'results': [{'question': '31.1', 'correct': True},\n",
       "  {'question': '31.2', 'correct': False},\n",
       "  {'question': '31.3', 'correct': True},\n",
       "  {'question': '31.4', 'correct': True},\n",
       "  {'question': '32.1', 'correct': False},\n",
       "  {'question': '32.2', 'correct': False},\n",
       "  {'question': '32.3', 'correct': True}]}"
      ]
     },
     "execution_count": 6,
     "metadata": {},
     "output_type": "execute_result"
    }
   ],
   "source": [
    "import httpimport\n",
    "\n",
    "with httpimport.remote_repo(\n",
    "    'https://gist.githubusercontent.com/TongSii/434630cdcf6363e2027f65fe2a280fcd/raw/'\n",
    "):\n",
    "    import checker\n",
    "\n",
    "checker.check_hds5210(answers, 'week08')"
   ]
  },
  {
   "cell_type": "markdown",
   "metadata": {
    "id": "bTcRU-5KNr6_"
   },
   "source": []
  },
  {
   "cell_type": "markdown",
   "metadata": {
    "id": "KJ5KXuI3MOpd"
   },
   "source": [
    "---\n",
    "\n",
    "## Check your work above\n",
    "\n",
    "If you didn't get them all correct, take a few minutes to think through those that aren't correct.\n",
    "\n",
    "\n",
    "## Submitting Your Work\n",
    "\n",
    "In order to submit your work, you'll need to save this notebook file back to GitHub.  To do that in Google Colab:\n",
    "1. File -> Save a Copy in GitHub\n",
    "2. Make sure your HDS5210 repository is selected\n",
    "3. Make sure the file name includes the week number like this: `week02/week02_assignment_1.ipynb`\n",
    "4. Add a commit message that means something\n",
    "\n",
    "**Be sure week names are lowercase and use a two digit week number!!**\n",
    "\n",
    "**Be sure you use the same file name provided by the instructor!!**\n",
    "\n"
   ]
  }
 ],
 "metadata": {
  "colab": {
   "include_colab_link": true,
   "provenance": []
  },
  "kernelspec": {
   "display_name": "Python 3 (ipykernel)",
   "language": "python",
   "name": "python3"
  },
  "language_info": {
   "codemirror_mode": {
    "name": "ipython",
    "version": 3
   },
   "file_extension": ".py",
   "mimetype": "text/x-python",
   "name": "python",
   "nbconvert_exporter": "python",
   "pygments_lexer": "ipython3",
   "version": "3.13.5"
  }
 },
 "nbformat": 4,
 "nbformat_minor": 4
}
