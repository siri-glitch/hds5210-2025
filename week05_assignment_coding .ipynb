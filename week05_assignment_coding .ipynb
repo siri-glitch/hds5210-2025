{
 "cells": [
  {
   "cell_type": "markdown",
   "metadata": {
    "colab_type": "text",
    "id": "view-in-github"
   },
   "source": [
    "<a href=\"https://colab.research.google.com/github/TongSii/hds5210-2025/blob/main/week05/week05_assignment_coding.ipynb\" target=\"_parent\"><img src=\"https://colab.research.google.com/assets/colab-badge.svg\" alt=\"Open In Colab\"/></a>"
   ]
  },
  {
   "cell_type": "markdown",
   "metadata": {
    "id": "USGrciwCps0I",
    "nbgrader": {
     "grade": false,
     "grade_id": "intro",
     "locked": true,
     "schema_version": 1,
     "solution": false
    }
   },
   "source": [
    "# Week 5 Exercises\n",
    "\n",
    "_McKinney 3.2_\n",
    "\n",
    "**Unlike in previous weeks, in the exercises below, you will need to create a function definition from scratch.  I'll provide specific instructions and examples for how it will be used, but you will have to do the work of definiging the whole function.**\n",
    "\n",
    "---\n",
    "---"
   ]
  },
  {
   "cell_type": "markdown",
   "metadata": {
    "id": "3HKqrbDtps0M",
    "nbgrader": {
     "grade": false,
     "grade_id": "longest",
     "locked": true,
     "schema_version": 1,
     "solution": false
    }
   },
   "source": [
    "### 25.1 Longest String\n",
    "\n",
    "Write a function called `longest (L)` that takes as its only parameter a list of strings.  Your function needs to find the longest of those strings and return the position number of that longest string.  An example is provided below:\n",
    "\n",
    "The longest word in that list of strings is \"birthday\" in position #1, so `longest(strings)` should return 1.\n",
    "```\n",
    ">>> strings = ['happy', 'birthday', 'to', 'me']\n",
    ">>> longest(strings)\n",
    "1\n",
    "```\n",
    "\n",
    "Be sure to include a docstring.  Include test cases in your docstring if you want to."
   ]
  },
  {
   "cell_type": "code",
   "execution_count": 1,
   "metadata": {
    "id": "NFRUtFP5ps0O",
    "nbgrader": {
     "grade": false,
     "grade_id": "longest-answer",
     "locked": false,
     "schema_version": 1,
     "solution": true
    }
   },
   "outputs": [],
   "source": [
    "def longest(L):\n",
    "    \"\"\"\n",
    "    Return the position of the longest string in L.\n",
    "\n",
    "    >>> longest(['happy', 'birthday', 'to', 'me'])\n",
    "    1\n",
    "    >>> longest(\"enjoy class\".split(\" \"))\n",
    "    0\n",
    "    >>> longest(['when','what','where','how','who'])\n",
    "    2\n",
    "    \"\"\"\n",
    "    # find the longest string\n",
    "    longest_string = max(L, key=len)\n",
    "    # return its position\n",
    "    return L.index(longest_string)"
   ]
  },
  {
   "cell_type": "code",
   "execution_count": 2,
   "metadata": {
    "id": "PaSxb05Wps0S",
    "nbgrader": {
     "grade": true,
     "grade_id": "longest-tests",
     "locked": true,
     "points": 10,
     "schema_version": 1,
     "solution": false
    }
   },
   "outputs": [],
   "source": [
    "assert longest(\"happy birthday to me\".split(\" \")) == 1\n",
    "assert longest(\"enjoy class\".split(\" \")) == 0\n",
    "assert longest(['when','what','where','how','who']) == 2"
   ]
  },
  {
   "cell_type": "code",
   "execution_count": 3,
   "metadata": {
    "id": "vTnBNe2Lps0T",
    "outputId": "d4557309-1147-437b-b333-b5b75fa77502"
   },
   "outputs": [
    {
     "name": "stdout",
     "output_type": "stream",
     "text": [
      "Finding tests in NoName\n",
      "Trying:\n",
      "    longest(['happy', 'birthday', 'to', 'me'])\n",
      "Expecting:\n",
      "    1\n",
      "ok\n",
      "Trying:\n",
      "    longest(\"enjoy class\".split(\" \"))\n",
      "Expecting:\n",
      "    0\n",
      "ok\n",
      "Trying:\n",
      "    longest(['when','what','where','how','who'])\n",
      "Expecting:\n",
      "    2\n",
      "ok\n"
     ]
    }
   ],
   "source": [
    "import doctest\n",
    "doctest.run_docstring_examples(longest, globals(), verbose=True)"
   ]
  },
  {
   "cell_type": "markdown",
   "metadata": {
    "id": "HxJP8EuIps0U"
   },
   "source": [
    "### 25.2 Farenheit to Celsius\n",
    "\n",
    "Write a function called f_to_c() that converts a given temperature in degrees Farenheit to degrees Celsius.  If you don't recall that conversion, it is:\n",
    "\n",
    "$ temp_c = \\frac{5}{9} \\times (temp_f - 32) $\n",
    "\n",
    "Make sure that you code is well documented using the DocString examples, and that your code includes tests for 212f, 32f, and 98.6f."
   ]
  },
  {
   "cell_type": "code",
   "execution_count": 5,
   "metadata": {
    "id": "RbuLV_x0ps0V"
   },
   "outputs": [],
   "source": [
    "def f_to_c(fahrenheit):\n",
    "    \"\"\"\n",
    "    Convert degrees Fahrenheit to degrees Celsius.\n",
    "\n",
    "    >>> f_to_c(212)\n",
    "    100.0\n",
    "    >>> f_to_c(32)\n",
    "    0.0\n",
    "    >>> f_to_c(98.6)\n",
    "    37.0\n",
    "    \"\"\"\n",
    "    return 5/9 * (fahrenheit - 32)"
   ]
  },
  {
   "cell_type": "code",
   "execution_count": 6,
   "metadata": {
    "id": "rE2hTiZQps0V"
   },
   "outputs": [],
   "source": [
    "assert f_to_c(212) == 100.0\n",
    "assert f_to_c(32) == 0.0\n",
    "assert f_to_c(98.6) == 37.0"
   ]
  },
  {
   "cell_type": "code",
   "execution_count": 7,
   "metadata": {
    "id": "zggG7GLvps0V",
    "outputId": "298d6683-5a21-4ae8-9023-ce5ebd5e7031"
   },
   "outputs": [
    {
     "name": "stdout",
     "output_type": "stream",
     "text": [
      "Finding tests in NoName\n",
      "Trying:\n",
      "    f_to_c(212)\n",
      "Expecting:\n",
      "    100.0\n",
      "ok\n",
      "Trying:\n",
      "    f_to_c(32)\n",
      "Expecting:\n",
      "    0.0\n",
      "ok\n",
      "Trying:\n",
      "    f_to_c(98.6)\n",
      "Expecting:\n",
      "    37.0\n",
      "ok\n"
     ]
    }
   ],
   "source": [
    "import doctest\n",
    "doctest.run_docstring_examples(f_to_c, globals(), verbose=True)"
   ]
  },
  {
   "cell_type": "markdown",
   "metadata": {
    "id": "jVPshjppps0X"
   },
   "source": [
    "### 25.3 Computing Length of Stay\n",
    "\n",
    "For this problem, we have a collection of patient enounter data stored as a Python dictionary.  The `key` for the dictionary is the **encounter ID**, a code that starts with the letter `E` followed by four numbers.  The value associated with each encounter ID is another Python dictionary.  This \"inner\" dictionary holds three items: admit date, primary diagnosis, and discharge date.  See the example in the code below.\n",
    "\n",
    "You need to write a length of stay function that computes the length of stay, in whole days, between the admit date and discharge date.  However, if the diagnosis is \"Observation\" then the length of stay should always be returned as 0 regardless of the admit and discharge dates. Your function should should take three parameters: a start date, an end date, and a diagnosis.\n",
    "\n",
    "You will find it handy to refer to this example here on how to calculate the number of days between two dates: https://stackoverflow.com/questions/151199/how-to-calculate-number-of-days-between-two-given-dates"
   ]
  },
  {
   "cell_type": "code",
   "execution_count": 8,
   "metadata": {
    "id": "XS6D4u1vps0Y"
   },
   "outputs": [
    {
     "name": "stdout",
     "output_type": "stream",
     "text": [
      "5\n",
      "4\n",
      "1\n",
      "0\n",
      "0\n",
      "Finding tests in NoName\n",
      "Trying:\n",
      "    los(date(2019,1,3), date(2019,1,8), \"COPD\")\n",
      "Expecting:\n",
      "    5\n",
      "ok\n",
      "Trying:\n",
      "    los(date(2020,1,5), date(2020,1,8), \"Observation\")\n",
      "Expecting:\n",
      "    0\n",
      "ok\n"
     ]
    }
   ],
   "source": [
    "from datetime import date\n",
    "\n",
    "### BEGIN SOLUTION\n",
    "from datetime import date\n",
    "\n",
    "def los(start_date, end_date, diagnosis):\n",
    "    \"\"\"\n",
    "    Calculate the Length of Stay (LOS) for a patient,\n",
    "    if the diagnosis is \"Observation\" then the LOS is 0,\n",
    "    otherwise it is the difference in days between the start and end dates.\n",
    "\n",
    "    >>> los(date(2019,1,3), date(2019,1,8), \"COPD\")\n",
    "    5\n",
    "    >>> los(date(2020,1,5), date(2020,1,8), \"Observation\")\n",
    "    0\n",
    "    \"\"\"\n",
    "    if diagnosis == \"Observation\":\n",
    "        return 0\n",
    "    return (end_date - start_date).days\n",
    "\n",
    "encounters = {\n",
    "    \"E1234\": { \"admit\": date(2019,1,3), \"diagnosis\": \"COPD\", \"discharge\": date(2019,1,8) },\n",
    "    \"E8342\": { \"admit\": date(2019,1,5), \"diagnosis\": \"Hypertension\", \"discharge\": date(2019,1,9) },\n",
    "    \"E9231\": { \"admit\": date(2019,1,12), \"diagnosis\": \"Anxiety\", \"discharge\": date(2019,1,13) },\n",
    "    \"E8333\": { \"admit\": date(2019,1,15), \"diagnosis\": \"Observation\", \"discharge\": date(2019,1,16) },\n",
    "    \"E3342\": { \"admit\": date(2019,1,4), \"diagnosis\": \"Anxiety\", \"discharge\": date(2019,1,4)}\n",
    "}\n",
    "\n",
    "for encid, visit in encounters.items():\n",
    "    print(los(visit['admit'],visit['discharge'],visit['diagnosis']))\n",
    "\n",
    "# Doctests\n",
    "import doctest\n",
    "doctest.run_docstring_examples(los, globals(), verbose=True)\n",
    "\n",
    "### END SOLUTION"
   ]
  },
  {
   "cell_type": "code",
   "execution_count": 9,
   "metadata": {
    "id": "pqO8kbXhps0Y"
   },
   "outputs": [],
   "source": [
    "assert los(date(2019,1,3), date(2019,1,8), \"COPD\") == 5\n",
    "assert los(date(2020,1,5), date(2020,1,8), \"Observation\") == 0"
   ]
  },
  {
   "cell_type": "code",
   "execution_count": 10,
   "metadata": {
    "id": "Vc744XPOps0Y",
    "outputId": "3843500a-838e-4b84-88e7-bb2a9f60ec3e"
   },
   "outputs": [
    {
     "name": "stdout",
     "output_type": "stream",
     "text": [
      "Finding tests in NoName\n",
      "Trying:\n",
      "    los(date(2019,1,3), date(2019,1,8), \"COPD\")\n",
      "Expecting:\n",
      "    5\n",
      "ok\n",
      "Trying:\n",
      "    los(date(2020,1,5), date(2020,1,8), \"Observation\")\n",
      "Expecting:\n",
      "    0\n",
      "ok\n"
     ]
    }
   ],
   "source": [
    "import doctest\n",
    "doctest.run_docstring_examples(los, globals(), verbose=True)"
   ]
  },
  {
   "cell_type": "code",
   "execution_count": null,
   "metadata": {
    "id": "a4oN5l4Qps0Z",
    "outputId": "d6a5074d-ee01-4d27-f27c-a27fad47e59a"
   },
   "outputs": [
    {
     "name": "stdout",
     "output_type": "stream",
     "text": [
      "5\n",
      "4\n",
      "1\n",
      "0\n",
      "0\n"
     ]
    }
   ],
   "source": [
    "encounters = {\n",
    "    \"E1234\": { \"admit\": date(2019,1,3), \"diagnosis\": \"COPD\", \"discharge\": date(2019,1,8) },\n",
    "    \"E8342\": { \"admit\": date(2019,1,5), \"diagnosis\": \"Hypertension\", \"discharge\": date(2019,1,9) },\n",
    "    \"E9231\": { \"admit\": date(2019,1,12), \"diagnosis\": \"Anxiety\", \"discharge\": date(2019,1,13) },\n",
    "    \"E8333\": { \"admit\": date(2019,1,15), \"diagnosis\": \"Observation\", \"discharge\": date(2019,1,16) },\n",
    "    \"E3342\": { \"admit\": date(2019,1,4), \"diagnosis\": \"Anxiety\", \"discharge\": date(2019,1,4)}\n",
    "}\n",
    "\n",
    "\n",
    "for encid, visit in encounters.items():\n",
    "    print(los(visit['admit'],visit['discharge'],visit['diagnosis']))\n",
    "\n",
    "# Your output should be\n",
    "# 5\n",
    "# 4\n",
    "# 1\n",
    "# 0\n",
    "# 0"
   ]
  },
  {
   "cell_type": "markdown",
   "metadata": {
    "id": "MThmecwAps0Z"
   },
   "source": [
    "---\n",
    "---\n",
    "\n",
    "### 25.4 Average Length of Stay\n",
    "\n",
    "Create a function called `average_los` that returns the average of the LOS for the encounters in the provided dictionary. The encounters must be a dictionary that contains dictionaries that each contain at least an admit date and a discharge date.\n",
    "    \n",
    "If the length of stay of any individual encounter is 0, then it will not be counted toward the average."
   ]
  },
  {
   "cell_type": "code",
   "execution_count": 1,
   "metadata": {
    "id": "7kMG27dVps0a"
   },
   "outputs": [
    {
     "name": "stdout",
     "output_type": "stream",
     "text": [
      "Finding tests in NoName\n",
      "Trying:\n",
      "    round(average_los(encounters),2)\n",
      "Expecting:\n",
      "    3.33\n",
      "ok\n"
     ]
    }
   ],
   "source": [
    "\n",
    "### BEGIN SOLUTION\n",
    "from datetime import date\n",
    "\n",
    "def los(start_date, end_date, diagnosis):\n",
    "    \"\"\"\n",
    "    Calculate the Length of Stay (LOS) for a patient,\n",
    "    if the diagnosis is \"Observation\" then the LOS is 0,\n",
    "    otherwise it is the difference in days between the start and end dates.\n",
    "    \"\"\"\n",
    "    if diagnosis == \"Observation\":\n",
    "        return 0\n",
    "    return (end_date - start_date).days\n",
    "\n",
    "def average_los(encounters):\n",
    "    \"\"\"\n",
    "    Calculate the average Length of Stay (LOS), not considering individual encounters\n",
    "    with a LOS of 0.\n",
    "\n",
    "    >>> round(average_los(encounters),2)\n",
    "    3.33\n",
    "    \"\"\"\n",
    "    total_days = 0\n",
    "    total_encounters = 0\n",
    "\n",
    "    for encid, visit in encounters.items():\n",
    "        los_value = los(visit['admit'],visit['discharge'],visit['diagnosis'])\n",
    "        if los_value > 0:\n",
    "            total_days += los_value\n",
    "            total_encounters += 1\n",
    "\n",
    "    return total_days / total_encounters if total_encounters else 0\n",
    "\n",
    "# Given Encounters data\n",
    "encounters = {\n",
    "    \"E1234\": { \"admit\": date(2019,1,3), \"diagnosis\": \"COPD\", \"discharge\": date(2019,1,8) },\n",
    "    \"E8342\": { \"admit\": date(2019,1,5), \"diagnosis\": \"Hypertension\", \"discharge\": date(2019,1,9) },\n",
    "    \"E9231\": { \"admit\": date(2019,1,12), \"diagnosis\": \"Anxiety\", \"discharge\": date(2019,1,13) },\n",
    "    \"E8333\": { \"admit\": date(2019,1,15), \"diagnosis\": \"Observation\", \"discharge\": date(2019,1,16) },\n",
    "    \"E3342\": { \"admit\": date(2019,1,4), \"diagnosis\": \"Anxiety\", \"discharge\": date(2019,1,4)}\n",
    "}\n",
    "\n",
    "# Perform Assertion Test\n",
    "assert(round(average_los(encounters), 2) == 3.33)\n",
    "\n",
    "# Run Doctests\n",
    "import doctest\n",
    "doctest.run_docstring_examples(average_los, globals(), verbose=True)\n",
    "\n",
    "\n",
    "### END SOLUTION"
   ]
  },
  {
   "cell_type": "code",
   "execution_count": 2,
   "metadata": {
    "id": "xX0t-L3Qps0a"
   },
   "outputs": [],
   "source": [
    "from datetime import date\n",
    "encounters = {\n",
    "    \"E1234\": { \"admit\": date(2019,1,3), \"diagnosis\": \"COPD\", \"discharge\": date(2019,1,8) },\n",
    "    \"E8342\": { \"admit\": date(2019,1,5), \"diagnosis\": \"Hypertension\", \"discharge\": date(2019,1,9) },\n",
    "    \"E9231\": { \"admit\": date(2019,1,12), \"diagnosis\": \"Anxiety\", \"discharge\": date(2019,1,13) },\n",
    "    \"E8333\": { \"admit\": date(2019,1,15), \"diagnosis\": \"Observation\", \"discharge\": date(2019,1,16) },\n",
    "    \"E3342\": { \"admit\": date(2019,1,4), \"diagnosis\": \"Anxiety\", \"discharge\": date(2019,1,4)}\n",
    "}\n",
    "\n",
    "assert(round(average_los(encounters),2) == 3.33)"
   ]
  },
  {
   "cell_type": "code",
   "execution_count": 3,
   "metadata": {
    "id": "0pS5fTRNps0a"
   },
   "outputs": [
    {
     "name": "stdout",
     "output_type": "stream",
     "text": [
      "Finding tests in NoName\n",
      "Trying:\n",
      "    round(average_los(encounters),2)\n",
      "Expecting:\n",
      "    3.33\n",
      "ok\n"
     ]
    }
   ],
   "source": [
    "import doctest\n",
    "doctest.run_docstring_examples(average_los, globals(), verbose=True)"
   ]
  },
  {
   "cell_type": "markdown",
   "metadata": {
    "id": "y1Jmlg2tps0a"
   },
   "source": [
    "---\n",
    "\n",
    "### 25.5 Celsius to Farenheit\n",
    "\n",
    "Write your own function called `c_to_f` that converts degrees Celsius to degrees Farenheit.  Include in your solution a series of doc tests that can verify the conversion using inputs of 100, 0, and 37 degrees Celsius"
   ]
  },
  {
   "cell_type": "code",
   "execution_count": 4,
   "metadata": {
    "id": "tRbXtc8ops0a"
   },
   "outputs": [],
   "source": [
    "def c_to_f(celsius):\n",
    "    \"\"\"\n",
    "    Convert degrees Celsius to degrees Fahrenheit.\n",
    "\n",
    "    >>> c_to_f(100)\n",
    "    212.0\n",
    "    >>> c_to_f(0)\n",
    "    32.0\n",
    "    >>> c_to_f(37)\n",
    "    98.6\n",
    "    \"\"\"\n",
    "    return (celsius * 9/5) + 32"
   ]
  },
  {
   "cell_type": "code",
   "execution_count": 5,
   "metadata": {
    "id": "fty-gzRbps0a"
   },
   "outputs": [
    {
     "name": "stdout",
     "output_type": "stream",
     "text": [
      "Finding tests in NoName\n",
      "Trying:\n",
      "    c_to_f(100)\n",
      "Expecting:\n",
      "    212.0\n",
      "ok\n",
      "Trying:\n",
      "    c_to_f(0)\n",
      "Expecting:\n",
      "    32.0\n",
      "ok\n",
      "Trying:\n",
      "    c_to_f(37)\n",
      "Expecting:\n",
      "    98.6\n",
      "ok\n"
     ]
    }
   ],
   "source": [
    "import doctest\n",
    "doctest.run_docstring_examples(c_to_f, globals(), verbose=True)"
   ]
  },
  {
   "cell_type": "code",
   "execution_count": null,
   "metadata": {
    "id": "r5OwRfiGps0a"
   },
   "outputs": [],
   "source": []
  },
  {
   "cell_type": "markdown",
   "metadata": {
    "id": "rqN9soHVps0b"
   },
   "source": [
    "---\n",
    "\n",
    "## Check your work above\n",
    "\n",
    "If you didn't get them all correct, take a few minutes to think through those that aren't correct.\n",
    "\n",
    "\n",
    "## Submitting Your Work\n",
    "\n",
    "Save you work to the path week05/week05_assignment_coding.ipynb"
   ]
  },
  {
   "cell_type": "code",
   "execution_count": null,
   "metadata": {
    "id": "r3Nq9eGEqF9f"
   },
   "outputs": [],
   "source": []
  }
 ],
 "metadata": {
  "celltoolbar": "Create Assignment",
  "colab": {
   "include_colab_link": true,
   "provenance": []
  },
  "kernelspec": {
   "display_name": "Python 3 (ipykernel)",
   "language": "python",
   "name": "python3"
  },
  "language_info": {
   "codemirror_mode": {
    "name": "ipython",
    "version": 3
   },
   "file_extension": ".py",
   "mimetype": "text/x-python",
   "name": "python",
   "nbconvert_exporter": "python",
   "pygments_lexer": "ipython3",
   "version": "3.13.5"
  }
 },
 "nbformat": 4,
 "nbformat_minor": 4
}
