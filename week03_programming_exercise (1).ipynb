{
 "cells": [
  {
   "cell_type": "markdown",
   "id": "33f1e9b0",
   "metadata": {
    "colab_type": "text",
    "id": "view-in-github"
   },
   "source": [
    "<a href=\"https://colab.research.google.com/github/TongSii/hds5210-2025/blob/main/week03/week03_programming_exercise.ipynb\" target=\"_parent\"><img src=\"https://colab.research.google.com/assets/colab-badge.svg\" alt=\"Open In Colab\"/></a>"
   ]
  },
  {
   "cell_type": "markdown",
   "id": "5c8fa409",
   "metadata": {
    "id": "5c8fa409"
   },
   "source": [
    "# Week 3 Exercises"
   ]
  },
  {
   "cell_type": "markdown",
   "id": "e9f7c824",
   "metadata": {
    "id": "e9f7c824"
   },
   "source": [
    "\n",
    "See: *McKinney 2.3* and [Python Documentation](https://docs.python.org/3/tutorial/controlflow.html) section 4 on flow control.\n",
    "\n",
    "At the beginning of the semester, all of the workshop programming exercises will be structured a specific way to make it easier\n",
    "to verify for yourself that you're on the right track as well as easier for me to do a first pass on automated grading.\n"
   ]
  },
  {
   "cell_type": "markdown",
   "id": "c540278e",
   "metadata": {
    "id": "c540278e"
   },
   "source": [
    "**WHAT I PROVIDE:**"
   ]
  },
  {
   "cell_type": "code",
   "execution_count": null,
   "id": "2294d3ea",
   "metadata": {
    "id": "2294d3ea"
   },
   "outputs": [],
   "source": [
    "def some_function(parameter1, parameter2):\n",
    "    ### BEGIN SOLUTION\n",
    "    x = -1\n",
    "    ### END SOLUTION\n",
    "    return x"
   ]
  },
  {
   "cell_type": "markdown",
   "id": "90a34a57",
   "metadata": {
    "id": "90a34a57"
   },
   "source": [
    "**WHAT YOU SHOULD DO:**"
   ]
  },
  {
   "cell_type": "code",
   "execution_count": null,
   "id": "87c8e2df",
   "metadata": {
    "id": "87c8e2df"
   },
   "outputs": [],
   "source": [
    "def some_function(a, b):\n",
    "    ### BEGIN SOLUTION\n",
    "    temp = a + b\n",
    "    x = temp / a * b\n",
    "    ### END SOLUTION\n",
    "    return x"
   ]
  },
  {
   "cell_type": "markdown",
   "id": "bbf35339",
   "metadata": {
    "id": "bbf35339"
   },
   "source": [
    "## 14.1 Difference in rate per 1,000\n",
    "\n",
    "Often in public health, we report metrics as a number per 1,000 or per 1,000,000 in population.\n",
    "The purpose of that is to normalize the numbers between area of larger and smaller populations.\n",
    "\n",
    "Below, we have a function already built to calculate the difference in rate per 1,000 in two different regions.\n",
    "The function normalizes them and then prints out a message describing their difference."
   ]
  },
  {
   "cell_type": "code",
   "execution_count": 1,
   "id": "03e04786",
   "metadata": {
    "id": "03e04786"
   },
   "outputs": [],
   "source": [
    "def diff_in_rate_normalized(count_a, total_a, count_b, total_b):\n",
    "    \"\"\"(int,int,int,int) -> str\n",
    "    * count_a is the number of occurences in area A\n",
    "    * total_a is the total population in area A\n",
    "    * count_b is the number of occurences in area B\n",
    "    * total_b is the total population in area B\n",
    "\n",
    "    This function returns a string describing how A and B compare in terms of occurence rates per 1,000 population.\"\"\"\n",
    "\n",
    "    rate_a = count_a / total_a * 1000\n",
    "    rate_b = count_b / total_b * 1000\n",
    "\n",
    "    if rate_a == rate_b:\n",
    "        msg = \"The rate in A and the rate in B are the same ({}).\".format(rate_a)\n",
    "    elif rate_a > rate_b:\n",
    "        msg = \"The rate in A ({}) is greater than the rate in B ({}).\".format(rate_a, rate_b)\n",
    "    else:\n",
    "        msg = \"The rate in A ({}) is less than the rate in B ({})\".format(rate_a, rate_b)\n",
    "\n",
    "    return msg"
   ]
  },
  {
   "cell_type": "code",
   "execution_count": 2,
   "id": "71a94644",
   "metadata": {
    "id": "71a94644"
   },
   "outputs": [
    {
     "name": "stdout",
     "output_type": "stream",
     "text": [
      "The rate in A (1.0) is less than the rate in B (1.5)\n"
     ]
    }
   ],
   "source": [
    "rate_covid_testing = diff_in_rate_normalized(1,1000,15,10000)\n",
    "print(rate_covid_testing)"
   ]
  },
  {
   "cell_type": "code",
   "execution_count": 3,
   "id": "1bf11a74",
   "metadata": {
    "id": "1bf11a74"
   },
   "outputs": [
    {
     "data": {
      "text/plain": [
       "'The rate in A and the rate in B are the same (3.0).'"
      ]
     },
     "execution_count": 3,
     "metadata": {},
     "output_type": "execute_result"
    }
   ],
   "source": [
    "diff_in_rate_normalized(3,1000,30,10000)"
   ]
  },
  {
   "cell_type": "markdown",
   "id": "153b46ed",
   "metadata": {
    "id": "153b46ed"
   },
   "source": [
    "## 14.2 Trimming outliers\n",
    "While it works well in most cases, in practice, this may not truly make numbers comparable between extremely large population centers (e.g., New York City at 8.5 million) and very small rural areas (e.g., Meeteetse, WY at 459 people).\n",
    "\n",
    "Let’s take that function and make some adjustments. If the total population of either A or B is more than 100 times larger than the other, then we want to return a different message.\n",
    "\n",
    "That is, if the populations are more than two orders of magnitude different, then we shouldn’t try to compare them."
   ]
  },
  {
   "cell_type": "code",
   "execution_count": 5,
   "id": "337cbf7f",
   "metadata": {
    "id": "337cbf7f"
   },
   "outputs": [],
   "source": [
    "def diff_in_rate_normalized(count_a, total_a, count_b, total_b):\n",
    "    \"\"\"(int, int, int, int) -> str\n",
    "    * count_a is the number of occurrences in area A\n",
    "    * total_a is the total population in area A\n",
    "    * count_b is the number of occurrences in area B\n",
    "    * total_b is the total population in area B\n",
    "\n",
    "    This function returns a string describing how A and B compare in terms of occurrence rates per 1,000 population.\n",
    "\n",
    "    If total_a / total_b > 100 OR total_b / total_a > 100 then we'll return a message saying the two can't be compared.\n",
    "    \"The total populations in A and B are so different that they can't be compared.\"\n",
    "    \"\"\"\n",
    "    rate_a = (count_a / total_a) * 1000\n",
    "    rate_b = (count_b / total_b) * 1000\n",
    "\n",
    "    if total_a / total_b > 100 or total_b / total_a > 100:\n",
    "        msg = \"The total populations in A and B are so different that they can't be compared.\"\n",
    "    elif rate_a == rate_b:\n",
    "        msg = \"The rate in A and the rate in B are the same ({}).\".format(rate_a)\n",
    "    elif rate_a > rate_b:\n",
    "        msg = \"The rate in A ({}) is greater than the rate in B ({}).\".format(rate_a, rate_b)\n",
    "    else:\n",
    "        msg = \"The rate in A ({}) is less than the rate in B ({}).\".format(rate_a, rate_b)\n",
    "\n",
    "    return msg\n",
    "\n",
    "\n"
   ]
  },
  {
   "cell_type": "code",
   "execution_count": 6,
   "id": "9db42395",
   "metadata": {
    "id": "9db42395"
   },
   "outputs": [
    {
     "data": {
      "text/plain": [
       "'The rate in A (10.893246187363834) is greater than the rate in B (3.5294117647058827).'"
      ]
     },
     "execution_count": 6,
     "metadata": {},
     "output_type": "execute_result"
    }
   ],
   "source": [
    "diff_in_rate_normalized(5, 459, 30, 8500)"
   ]
  },
  {
   "cell_type": "markdown",
   "id": "dbde8b06",
   "metadata": {
    "id": "dbde8b06"
   },
   "source": [
    "## 14.3 LACE Score\n",
    "There is a simple readmission index called the LACE Score:\n",
    "https://www.mdcalc.com/calc/3805/lace-index-readmission\n",
    "\n",
    "Use this documentation to create a function that can compute LACE scores based on the 4 input parameters.\n",
    "\n",
    "Below is the function signature and documentation that you start with."
   ]
  },
  {
   "cell_type": "code",
   "execution_count": 17,
   "id": "87f3bab8",
   "metadata": {
    "id": "87f3bab8"
   },
   "outputs": [],
   "source": [
    "def LACE(length_of_stay, acute_flag, charlson_index, ed_visits):\n",
    "    # Length of Stay (L)\n",
    "    if length_of_stay < 1:\n",
    "        L = 0\n",
    "    elif length_of_stay in [1, 2, 3, 4]:\n",
    "        L = length_of_stay\n",
    "    elif length_of_stay in range(5, 7):\n",
    "        L = 4\n",
    "    elif length_of_stay == 7:\n",
    "        L = 5\n",
    "    elif length_of_stay in range(8, 14):\n",
    "        L = 6\n",
    "    else:\n",
    "        L = 7\n",
    "\n",
    "    # Acute Admission (A)\n",
    "    A = 3 if acute_flag == True else 0\n",
    "\n",
    "    # Charlson Comorbidity Index (C)\n",
    "    if charlson_index == 0:\n",
    "        C = 0\n",
    "    elif charlson_index == 1:\n",
    "        C = 1\n",
    "    elif charlson_index == 2:\n",
    "        C = 2\n",
    "    elif charlson_index == 3:\n",
    "        C = 3\n",
    "    elif charlson_index >= 4:\n",
    "        C = 5\n",
    "\n",
    "    # ED visits in the 6 months before admission (E)\n",
    "    if ed_visits == 0:\n",
    "        E = 0\n",
    "    elif ed_visits in [1, 2, 3]:\n",
    "        E = ed_visits\n",
    "    else:\n",
    "        E = 4\n",
    "\n",
    "    return L + A + C + E\n",
    "\n",
    "\n"
   ]
  },
  {
   "cell_type": "code",
   "execution_count": 18,
   "id": "d067fb9e",
   "metadata": {
    "id": "d067fb9e"
   },
   "outputs": [],
   "source": [
    "assert LACE(4, False, 1, 0) == 5\n",
    "assert LACE(4, True, 4, 7) == 16"
   ]
  },
  {
   "cell_type": "markdown",
   "id": "7759bda7",
   "metadata": {
    "id": "7759bda7"
   },
   "source": [
    "## 14.4 Care Management Criteria\n",
    "Care managers use LACE as part of the criteria for assigning a care coordinator to a patient who has been recently discharged.\n",
    "\n",
    "If the score is above 10, then a care coordinator will be assigned.\n",
    "\n",
    "The other criteria they use is if the patient has been discharged with a diagnosis of CHF or COPD.\n",
    "If the diagnosis field has CHF or COPD in it, then the patient will have a care coordinator assigned.\n",
    "\n",
    "For this exercise, write another function that takes the same inputs as LACE() plus another diagnosis parameter, and return True or False depending on if the patient needs a care coordinator.\n",
    "\n",
    "NOTE: Pay attention to the fact that the order of parameters in this function definition are not the same as the order they were in the LACE score."
   ]
  },
  {
   "cell_type": "code",
   "execution_count": 9,
   "id": "35769eb1",
   "metadata": {
    "id": "35769eb1"
   },
   "outputs": [],
   "source": [
    "def assign_care_coordinator(diagnosis_cd, ed_visits, length_of_stay, acute_flag, charlson):\n",
    "    \"\"\" (str, int, int, bool, int) -> bool\n",
    "    Care managers use LACE as part of the criteria for assigning a care coordinator to a\n",
    "    patient who has been recently discharged. If the score is above 10, then a care\n",
    "    coordinator will be assigned. The other criteria they use is if the patient has been\n",
    "    discharged with a diagnosis of CHF or COPD. If the diagnosis field has CHF or COPD in\n",
    "    it, then the patient will have a care coordinator assigned.\n",
    "    \"\"\"\n",
    "\n",
    "    # Calculate the LACE score\n",
    "    lace_score = 0\n",
    "\n",
    "    # Length of Stay (L)\n",
    "    if length_of_stay < 1:\n",
    "        lace_score += 0\n",
    "    elif length_of_stay == 1:\n",
    "        lace_score += 1\n",
    "    elif length_of_stay == 2:\n",
    "        lace_score += 2\n",
    "    elif length_of_stay == 3:\n",
    "        lace_score += 3\n",
    "    else:\n",
    "        lace_score += 4\n",
    "\n",
    "    # Acute Admission (A)\n",
    "    if acute_flag:\n",
    "        lace_score += 5\n",
    "\n",
    "    # Charlson Comorbidity Index (C)\n",
    "    if charlson == 0:\n",
    "        lace_score += 0\n",
    "    elif charlson == 1:\n",
    "        lace_score += 1\n",
    "    elif charlson == 2:\n",
    "        lace_score += 2\n",
    "    else:\n",
    "        lace_score += 3\n",
    "\n",
    "    # Check if the diagnosis is CHF or COPD\n",
    "    has_chf_or_copd = diagnosis_cd in ['CHF', 'COPD']\n",
    "\n",
    "    # Assign a care coordinator if LACE score > 10 or CHF/COPD diagnosis\n",
    "    if lace_score > 10 or has_chf_or_copd:\n",
    "        return True\n",
    "    else:\n",
    "        return False\n"
   ]
  },
  {
   "cell_type": "code",
   "execution_count": 10,
   "id": "4c6c0983",
   "metadata": {
    "id": "4c6c0983"
   },
   "outputs": [],
   "source": [
    "assert assign_care_coordinator('None', 0, 4, False, 1) == False\n",
    "assert assign_care_coordinator('CHF', 0, 4, False, 1) == True\n",
    "assert assign_care_coordinator('COPD', 0, 4, False, 1) == True\n",
    "assert assign_care_coordinator('None', 7, 4, True, 4) == True\n",
    "assert assign_care_coordinator('CHF', 7, 4, True, 4) == True"
   ]
  },
  {
   "cell_type": "markdown",
   "id": "f580838c",
   "metadata": {
    "id": "f580838c"
   },
   "source": [
    "## 14.5 qCSI COVID-19 Severity Index\n",
    "See: https://www.mdcalc.com/quick-covid-19-severity-index-qcsi#evidence\n",
    "\n",
    "Calculate the total risk score as per the point values assigned to respiratory rate, pulse oximetry, and O2 flow rate.\n",
    "Then calculate and return the Risk Level.\n",
    "\n",
    "In addition to the rules provided at the link above, also add the following checks for valid values:\n",
    "\n",
    "- If respiratory_rate <= 0 then return 'invalid respiratory rate'\n",
    "- If pulse_ox <= 0 then return 'invalid pulse ox'\n",
    "- If pulse_ox > 100 then return 'invalid pulse ox'\n",
    "- If o2_flow <= 0 then return 'invalid O2 flow rate'"
   ]
  },
  {
   "cell_type": "code",
   "execution_count": 15,
   "id": "cb8c7f70",
   "metadata": {
    "id": "cb8c7f70"
   },
   "outputs": [],
   "source": [
    "def qcsi(respiratory_rate, pulse_ox, o2_flow):\n",
    "    \"\"\"(int, int, int) -> str\n",
    "    * respiratory_rate is an integer value\n",
    "    * pulse_ox is an integer value (e.g. 30 means 30%)\n",
    "    * o2_flow is an integer value\n",
    "    \"\"\"\n",
    "    if respiratory_rate <= 0:\n",
    "        return 'invalid respiratory rate'\n",
    "    if pulse_ox <= 0 or pulse_ox > 100:\n",
    "        return 'invalid pulse ox'\n",
    "    if o2_flow < 0:\n",
    "        return 'invalid O2 flow rate'\n",
    "\n",
    "    #RR\n",
    "    if respiratory_rate <= 22:\n",
    "      RR = 0\n",
    "    elif respiratory_rate <= 28:\n",
    "      RR = 1\n",
    "    else:\n",
    "      RR = 2\n",
    "\n",
    "    #PO\n",
    "    if pulse_ox >= 92:\n",
    "      PO = 0\n",
    "    elif pulse_ox >= 89:\n",
    "      PO = 2\n",
    "    else:\n",
    "      PO = 5\n",
    "\n",
    "    #O\n",
    "    if o2_flow <= 2:\n",
    "      O = 0\n",
    "    elif o2_flow < 5:\n",
    "      O = 4\n",
    "    else:\n",
    "      O = 5\n",
    "\n",
    "    Rscore = RR + PO + O\n",
    "\n",
    "    # determine risk level\n",
    "    if Rscore < 4:\n",
    "        risk = 'low'\n",
    "    elif Rscore <= 6:\n",
    "        risk = 'low-intermediate'\n",
    "    elif Rscore <= 9:\n",
    "        risk = 'high-intermediate'\n",
    "    else:\n",
    "        risk = 'high'\n",
    "    return risk\n",
    "\n"
   ]
  },
  {
   "cell_type": "code",
   "execution_count": 16,
   "id": "9801819a",
   "metadata": {
    "id": "9801819a"
   },
   "outputs": [],
   "source": [
    "assert qcsi(29, 95, 1) == 'low'\n",
    "assert qcsi(20, 93, 1) == 'low'\n",
    "assert qcsi(29, 88, 1) == 'high-intermediate'\n",
    "assert qcsi(29, 88, 4) == 'high'\n",
    "assert qcsi(30, 90, 1) == 'low-intermediate'\n",
    "assert qcsi(28, 92, -1) == 'invalid O2 flow rate'"
   ]
  }
 ],
 "metadata": {
  "colab": {
   "include_colab_link": true,
   "provenance": []
  },
  "kernelspec": {
   "display_name": "Python 3 (ipykernel)",
   "language": "python",
   "name": "python3"
  },
  "language_info": {
   "codemirror_mode": {
    "name": "ipython",
    "version": 3
   },
   "file_extension": ".py",
   "mimetype": "text/x-python",
   "name": "python",
   "nbconvert_exporter": "python",
   "pygments_lexer": "ipython3",
   "version": "3.13.5"
  }
 },
 "nbformat": 4,
 "nbformat_minor": 5
}
