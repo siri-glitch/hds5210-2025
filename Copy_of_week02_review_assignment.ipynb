{
  "nbformat": 4,
  "nbformat_minor": 5,
  "metadata": {
    "kernelspec": {
      "display_name": "Python 3",
      "language": "python",
      "name": "python3"
    },
    "language_info": {
      "name": "python",
      "version": "3.x"
    },
    "colab": {
      "provenance": [],
      "include_colab_link": true
    }
  },
  "cells": [
    {
      "cell_type": "markdown",
      "metadata": {
        "id": "view-in-github",
        "colab_type": "text"
      },
      "source": [
        "<a href=\"https://colab.research.google.com/github/siri-glitch/hds5210-2025/blob/main/Copy_of_week02_review_assignment.ipynb\" target=\"_parent\"><img src=\"https://colab.research.google.com/assets/colab-badge.svg\" alt=\"Open In Colab\"/></a>"
      ]
    },
    {
      "cell_type": "markdown",
      "metadata": {
        "id": "yMVIkLHRrNdo"
      },
      "source": [
        "# Week 2 Review Exercises\n",
        "\n",
        "*Modules 4-6*\n",
        "\n",
        "This assignment is to be completed after week2's lectures for modules 4 - 6. Please review the content in those modules through Canvas and then complete the review below as instructed. When complete, there are instructions at the bottom of the exercise that will allow you to check your work and then submit it via github.com\n",
        "\n",
        "For each of the multiple choice questions below, do not change the variable name. Only change the answer part to match whichever letter or letters are the correct answer.\n",
        "\n",
        "For example, in the problem below, the correct answer is **D**, so you would provide the answer as show.\n"
      ],
      "id": "yMVIkLHRrNdo"
    },
    {
      "cell_type": "markdown",
      "metadata": {
        "id": "1lw6i4kKrNdq"
      },
      "source": [
        "### 0.1 Instructor's Name\n",
        "The correct spelling of this instructor's last name is:\n",
        "\n",
        "A) Sii  \n",
        "B) Sai  \n",
        "C) Se  \n",
        "D) Si\n"
      ],
      "id": "1lw6i4kKrNdq"
    },
    {
      "cell_type": "code",
      "metadata": {
        "id": "C3a5bT0vrNdq"
      },
      "execution_count": null,
      "outputs": [],
      "source": [
        "answer = {}\n",
        "answer[\"0.1\"]=\"D\"\n"
      ],
      "id": "C3a5bT0vrNdq"
    },
    {
      "cell_type": "markdown",
      "metadata": {
        "id": "QM9UhU6grNdr"
      },
      "source": [
        "---\n",
        "\n",
        "# Part 1: Multiple Choice\n",
        "\n",
        "For the multiple choice questions below, type in the letter of the best answer where indicated. Contrary to the note above, this section won't tell you if you have the correct answers or not immediately.\n"
      ],
      "id": "QM9UhU6grNdr"
    },
    {
      "cell_type": "markdown",
      "metadata": {
        "id": "6Z31JoQarNdr"
      },
      "source": [
        "## 1.1 Code Blocks\n",
        "**Why is some code in Python indented from other lines of code?**\n",
        "\n",
        "A) To block code apart to designate it should only be executed at certain times  \n",
        "B) Indented lines are treated like comments and not executed  \n",
        "C) To specify that line of code should never be run  \n",
        "D) The programmer can choose when to indent code to make it easier to read\n"
      ],
      "id": "6Z31JoQarNdr"
    },
    {
      "cell_type": "markdown",
      "source": [],
      "metadata": {
        "id": "nWNYSzdn6vdj"
      },
      "id": "nWNYSzdn6vdj"
    },
    {
      "cell_type": "code",
      "metadata": {
        "id": "JyJX811zrNdr"
      },
      "execution_count": null,
      "outputs": [],
      "source": [
        "answers = {}\n",
        "answers[\"1.1\"] = \"A\"\n"
      ],
      "id": "JyJX811zrNdr"
    },
    {
      "cell_type": "markdown",
      "metadata": {
        "id": "3xMPmqvnrNdr"
      },
      "source": [
        "## 1.2 Python Versions\n",
        "**Which statements about Python 2 and Python 3 are true?**\n",
        "\n",
        "A) For this class, we are only using Python 2  \n",
        "B) Every line of code that runs in Python version 2 will run exactly as is in version 3  \n",
        "C) Python version 2 and version 3 have some differences, but are mostly the same  \n",
        "D) Python 3 is still in beta and not stable\n"
      ],
      "id": "3xMPmqvnrNdr"
    },
    {
      "cell_type": "code",
      "metadata": {
        "id": "EBSTuJ3NrNdr"
      },
      "execution_count": null,
      "outputs": [],
      "source": [
        "answers[\"1.2\"] = \"C\"\n"
      ],
      "id": "EBSTuJ3NrNdr"
    },
    {
      "cell_type": "markdown",
      "metadata": {
        "id": "R_zjBoj2rNds"
      },
      "source": [
        "## 1.3 Python Syntax\n",
        "**Comparing Python to other programming languages like C++, Java, R, and JavaScript, what is the key difference in syntax?**\n",
        "\n",
        "A) Other languages put quotation marks around variable names  \n",
        "B) Python uses indenting to separate code blocks, other languages use curly brackets `{ }`  \n",
        "C) Python can only run on Internet servers, other languages run on your laptop  \n",
        "D) All of these languages run faster than Python\n"
      ],
      "id": "R_zjBoj2rNds"
    },
    {
      "cell_type": "code",
      "metadata": {
        "id": "b8emIZ48rNds"
      },
      "execution_count": null,
      "outputs": [],
      "source": [
        "answers[\"1.3\"] = \"B\"\n"
      ],
      "id": "b8emIZ48rNds"
    },
    {
      "cell_type": "markdown",
      "metadata": {
        "id": "nn2MR4wVrNds"
      },
      "source": [
        "---\n",
        "\n",
        "# Part 2: Variables and Names\n"
      ],
      "id": "nn2MR4wVrNds"
    },
    {
      "cell_type": "markdown",
      "metadata": {
        "id": "oyEmed7trNds"
      },
      "source": [
        "## 2.1 Variables\n",
        "In the scenario below, which statements about the variables `a` and `b` are true.\n",
        "\n",
        "```python\n",
        "a = [1, 2, 3]\n",
        "b = a\n",
        "```\n",
        "\n",
        "A) `a` is a list object and `b` is a reference to variable `a`  \n",
        "B) `a` and `b` both refer to a list object that has three elements  \n",
        "C) `b` is a separate object that is a copy of `a`  \n",
        "D) `b` refers to `a` which refers to a list object with three elements\n"
      ],
      "id": "oyEmed7trNds"
    },
    {
      "cell_type": "code",
      "metadata": {
        "id": "ehuQVD7erNds"
      },
      "execution_count": null,
      "outputs": [],
      "source": [
        "answers[\"2.1\"] = \"B\"\n"
      ],
      "id": "ehuQVD7erNds"
    },
    {
      "cell_type": "markdown",
      "metadata": {
        "id": "yGekZq3UrNds"
      },
      "source": [
        "## 2.2 Variable Names\n",
        "**Which of the following is NOT true about how you should name variables?**\n",
        "\n",
        "A) Variable names have to be less than 5 characters in length  \n",
        "B) Variable names can use abbreviations  \n",
        "C) Variable names should be readable by humans  \n",
        "D) Variable names represent a kind of documentation\n"
      ],
      "id": "yGekZq3UrNds"
    },
    {
      "cell_type": "code",
      "metadata": {
        "id": "53VGAHm4rNds"
      },
      "execution_count": null,
      "outputs": [],
      "source": [
        "answers[\"2.2\"] = \"A\"\n"
      ],
      "id": "53VGAHm4rNds"
    },
    {
      "cell_type": "markdown",
      "metadata": {
        "id": "lQ85dUV_rNds"
      },
      "source": [
        "---\n",
        "\n",
        "# Part 3: Built-in Types and Strings\n"
      ],
      "id": "lQ85dUV_rNds"
    },
    {
      "cell_type": "markdown",
      "metadata": {
        "id": "8fZhL5d-rNds"
      },
      "source": [
        "## 3.1 Built-in Types\n",
        "**Which of the following is NOT a standard built-in data types in base Python.**\n",
        "\n",
        "A) `bool`  \n",
        "B) `decimal`  \n",
        "C) `float`  \n",
        "D) `int`  \n",
        "E) `None`\n"
      ],
      "id": "8fZhL5d-rNds"
    },
    {
      "cell_type": "code",
      "metadata": {
        "id": "J3yM9ifdrNds"
      },
      "execution_count": null,
      "outputs": [],
      "source": [
        "answers[\"3.1\"] = \"B\"\n"
      ],
      "id": "J3yM9ifdrNds"
    },
    {
      "cell_type": "markdown",
      "metadata": {
        "id": "1oBarFf8rNds"
      },
      "source": [
        "## 3.2 Strings\n",
        "**Which is the proper way to create a multi-line string in a Python program?**\n",
        "\n",
        "A) Place `#` characters at the beginning of each line of the string  \n",
        "B) Place triple-quotes (`'''` or `\"\"\"`) on the first line and last line of the multi-line string  \n",
        "C) Start the string with a `'` or `\"` and then indent all of the subsequent lines until you place a `'` or `\"` at the end of the multi-line string  \n",
        "D) You can't create multi-line strings in Python\n"
      ],
      "id": "1oBarFf8rNds"
    },
    {
      "cell_type": "code",
      "metadata": {
        "id": "H3KSUL9ErNds"
      },
      "execution_count": null,
      "outputs": [],
      "source": [
        "answers[\"3.2\"] = \"B\"\n"
      ],
      "id": "H3KSUL9ErNds"
    },
    {
      "cell_type": "markdown",
      "metadata": {
        "id": "wNPJ0DV2rNdt"
      },
      "source": [
        "## 3.3 Combining Data\n",
        "**Which of the following is not a valid operation?**\n",
        "\n",
        "A) `'She is ' + 93 + ' years old.'`  \n",
        "B) `'This is a ' + \"complete sentence.\"`  \n",
        "C) `\"Repeat this! \" * 4`  \n",
        "D) `3.14 * 7`\n"
      ],
      "id": "wNPJ0DV2rNdt"
    },
    {
      "cell_type": "code",
      "metadata": {
        "id": "NXd2JsrmrNdt"
      },
      "execution_count": null,
      "outputs": [],
      "source": [
        "answers[\"3.3\"] = \"A\"\n"
      ],
      "id": "NXd2JsrmrNdt"
    },
    {
      "cell_type": "markdown",
      "metadata": {
        "id": "7lzgUy4grNdt"
      },
      "source": [
        "---\n",
        "\n",
        "# Part 4: Math\n"
      ],
      "id": "7lzgUy4grNdt"
    },
    {
      "cell_type": "markdown",
      "metadata": {
        "id": "vZrh-pp8rNdt"
      },
      "source": [
        "## 4.1 Math\n",
        "**What will be the output of the following lines of code? (Yes, I know that you can easily copy and paste this into another notebook and run it. Please try to reason through it!)**\n",
        "\n",
        "```python\n",
        "temp_c = 100\n",
        "temp_f = temp_c * 9/5 + 32\n",
        "temp_f\n",
        "```\n",
        "\n",
        "A) 212  \n",
        "B) 132  \n",
        "C) 32  \n",
        "D) 98.6\n"
      ],
      "id": "vZrh-pp8rNdt"
    },
    {
      "cell_type": "code",
      "metadata": {
        "id": "8r-va8PYrNdt"
      },
      "execution_count": null,
      "outputs": [],
      "source": [
        "answers[\"4.1\"] = \"A\"\n"
      ],
      "id": "8r-va8PYrNdt"
    },
    {
      "cell_type": "markdown",
      "metadata": {
        "id": "8sMYpIYnrNdt"
      },
      "source": [
        "## 4.2 Yummy pi\n",
        "**Which code represents the proper way to represent the mathematical expression** *pi^2* **?**\n",
        "\n",
        "A) `pi^2`  \n",
        "B) `pi ** 2`  \n",
        "C) `pi x pi`  \n",
        "D) `pi | 2`\n"
      ],
      "id": "8sMYpIYnrNdt"
    },
    {
      "cell_type": "code",
      "metadata": {
        "id": "8TnmJuRVrNdt"
      },
      "execution_count": null,
      "outputs": [],
      "source": [
        "answers[\"4.2\"] = \"B\"\n"
      ],
      "id": "8TnmJuRVrNdt"
    },
    {
      "cell_type": "code",
      "source": [
        "answers"
      ],
      "metadata": {
        "colab": {
          "base_uri": "https://localhost:8080/"
        },
        "id": "x02PAgOgxHvv",
        "outputId": "ef1e6c90-84a0-4586-b62f-5ac7c995a783"
      },
      "id": "x02PAgOgxHvv",
      "execution_count": null,
      "outputs": [
        {
          "output_type": "execute_result",
          "data": {
            "text/plain": [
              "{'1.1': 'A',\n",
              " '1.2': 'C',\n",
              " '1.3': 'B',\n",
              " '2.1': 'B',\n",
              " '2.2': 'A',\n",
              " '3.1': 'B',\n",
              " '3.2': 'B',\n",
              " '3.3': 'A',\n",
              " '4.1': 'A',\n",
              " '4.2': 'B'}"
            ]
          },
          "metadata": {},
          "execution_count": 12
        }
      ]
    },
    {
      "cell_type": "markdown",
      "metadata": {
        "id": "Bj6bBAeKrNdt"
      },
      "source": [
        "---\n",
        "\n",
        "## Checking Your Work\n",
        "After completing your work above and running each cell, you can check your answers by running the code below.\n",
        "\n",
        "The easiest way to do this is to use the **Runtime -> Restart and run all** menu option. This option restarts Python and runs every cell from top to bottom until it encounters an exception of some kind.\n"
      ],
      "id": "Bj6bBAeKrNdt"
    },
    {
      "cell_type": "code",
      "source": [
        "!pip -q install httpimport\n",
        "import httpimport, sys\n",
        "\n",
        "# If you imported a broken checker before, clear it\n",
        "sys.modules.pop(\"checker\", None)\n",
        "\n",
        "BASE = \"https://gist.githubusercontent.com/TongSii/a8439a8e38442e350416e77eaf03648f/raw\"\n",
        "\n",
        "with httpimport.remote_repo(BASE):\n",
        "    import checker  # your gist file must be named exactly: checker.py\n",
        "\n",
        "# run it\n",
        "checker.check_hds5210(answers, \"week02\")"
      ],
      "metadata": {
        "colab": {
          "base_uri": "https://localhost:8080/"
        },
        "id": "zTxy20U5USpT",
        "outputId": "908c1165-6267-4096-8422-e74d9b7a758f"
      },
      "id": "zTxy20U5USpT",
      "execution_count": null,
      "outputs": [
        {
          "output_type": "stream",
          "name": "stdout",
          "text": [
            "✗ Question 0.1: Incorrect\n",
            "✓ Question 1.1: Correct\n",
            "✓ Question 1.2: Correct\n",
            "✓ Question 1.3: Correct\n",
            "✓ Question 2.1: Correct\n",
            "✓ Question 2.2: Correct\n",
            "✓ Question 3.1: Correct\n",
            "✓ Question 3.2: Correct\n",
            "✓ Question 3.3: Correct\n",
            "✓ Question 4.1: Correct\n",
            "✓ Question 4.2: Correct\n",
            "\n",
            "Score: 10/11  (90.91%)\n"
          ]
        },
        {
          "output_type": "execute_result",
          "data": {
            "text/plain": [
              "{'ok': True,\n",
              " 'score': 10,\n",
              " 'total': 11,\n",
              " 'pct': 90.91,\n",
              " 'results': [{'question': '0.1', 'correct': False},\n",
              "  {'question': '1.1', 'correct': True},\n",
              "  {'question': '1.2', 'correct': True},\n",
              "  {'question': '1.3', 'correct': True},\n",
              "  {'question': '2.1', 'correct': True},\n",
              "  {'question': '2.2', 'correct': True},\n",
              "  {'question': '3.1', 'correct': True},\n",
              "  {'question': '3.2', 'correct': True},\n",
              "  {'question': '3.3', 'correct': True},\n",
              "  {'question': '4.1', 'correct': True},\n",
              "  {'question': '4.2', 'correct': True}]}"
            ]
          },
          "metadata": {},
          "execution_count": 15
        }
      ]
    }
  ]
}