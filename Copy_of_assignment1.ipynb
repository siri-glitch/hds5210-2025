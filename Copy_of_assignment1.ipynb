{
  "nbformat": 4,
  "nbformat_minor": 0,
  "metadata": {
    "colab": {
      "provenance": [],
      "include_colab_link": true
    },
    "kernelspec": {
      "name": "python3",
      "display_name": "Python 3"
    },
    "language_info": {
      "name": "python"
    }
  },
  "cells": [
    {
      "cell_type": "markdown",
      "metadata": {
        "id": "view-in-github",
        "colab_type": "text"
      },
      "source": [
        "<a href=\"https://colab.research.google.com/github/siri-glitch/hds5210-2025/blob/main/Copy_of_assignment1.ipynb\" target=\"_parent\"><img src=\"https://colab.research.google.com/assets/colab-badge.svg\" alt=\"Open In Colab\"/></a>"
      ]
    },
    {
      "cell_type": "markdown",
      "source": [
        "# Week 1 Assignment\n",
        "The goal of this first assignment is to demonstrate that you know how to interact with Google Colab and GitHub using the process we'll be using to submit assignments and receive deedback in the course.Complete the steps below:\n",
        "\n",
        "\n",
        "\n",
        "1.   Open this notebook in Google Colab from my GitHub repository named *hds5210-2025*\n",
        "2.   Edit the variables in the first cell below with your information\n",
        "3.   Choose Runtime->Restart and run all, or if you haven't run anybefore, just hit run all\n",
        "4.   Save this notebook to the following path in your own GitHub repository: week01/assignment1.ipynb\n",
        "5.   Verify that you can see your file in the GitHub as noted in print statement\n",
        "\n"
      ],
      "metadata": {
        "id": "jSK3KO1xQsrr"
      }
    },
    {
      "cell_type": "code",
      "execution_count": 3,
      "metadata": {
        "id": "fbA3gtRgQjcE"
      },
      "outputs": [],
      "source": [
        "my_email = 'spenumaka@slu.edu'\n",
        "my_github = 'Siri-glitch'\n",
        "my_repository = 'hds5210-2025'"
      ]
    },
    {
      "cell_type": "code",
      "source": [
        "print(f'''\n",
        "If I did this right, after saving to GitHub I'll see this file at https://github.com/{my_github}/{my_repository}/blob/main/week01/assignment1.ipynb\n",
        "''')\n"
      ],
      "metadata": {
        "colab": {
          "base_uri": "https://localhost:8080/"
        },
        "id": "_wvoV24CSIrY",
        "outputId": "d6bbf555-cf84-4f49-edfe-73aa6e8bb276"
      },
      "execution_count": 4,
      "outputs": [
        {
          "output_type": "stream",
          "name": "stdout",
          "text": [
            "\n",
            "If I did this right, after saving to GitHub I'll see this file at https://github.com/Siri-glitch/hds5210-2025/blob/main/week01/assignment1.ipynb\n",
            "\n"
          ]
        }
      ]
    }
  ]
}