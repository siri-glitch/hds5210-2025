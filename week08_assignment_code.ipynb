{
 "cells": [
  {
   "cell_type": "markdown",
   "metadata": {
    "colab_type": "text",
    "id": "view-in-github"
   },
   "source": [
    "<a href=\"https://colab.research.google.com/github/TongSii/hds5210-2025/blob/main/week08/week08_assignment_code.ipynb\" target=\"_parent\"><img src=\"https://colab.research.google.com/assets/colab-badge.svg\" alt=\"Open In Colab\"/></a>"
   ]
  },
  {
   "cell_type": "markdown",
   "metadata": {
    "id": "wRMNogLtMQk0"
   },
   "source": [
    "# Week 8 Assignment\n",
    "\n",
    "We've been working with different types of data structures in Python (dictionary, list, etc), how those are represented in JSON documents, and how to write code to access specific data elements. In this week's assignment, you will need to create your own JSON document to store information about yourself and the grades you've received from week 1 to week 4 and the week 6 quiz.  That is, everything you should have received a grade for.  Then you'll need to show me you know how to navigate the JSON in that file.\n",
    "\n",
    "Different from what we've done in the past, you do not have to write any functions or include any docstrings.  Just create some JSON and write some code.\n",
    "\n",
    "---"
   ]
  },
  {
   "cell_type": "markdown",
   "metadata": {
    "id": "2yB8HaJgMQk7"
   },
   "source": [
    "## 7.1 Create a JSON file\n",
    "\n",
    "Create a JSON file that contains your name, email, year you were born, all of the grades you've received back so far, and a comment about what you thought was most challenging on each of those assignments.  This can be any structure you choose, but make sure it uses a dictionary and a list, and has at least two levels of hierarchy.  That is, it can't just be one big long list."
   ]
  },
  {
   "cell_type": "markdown",
   "metadata": {
    "id": "rBL1TxthMQlA"
   },
   "source": [
    "First, explain how your data structure is going to look..."
   ]
  },
  {
   "cell_type": "markdown",
   "metadata": {
    "id": "rh8Ej7mrMQlB"
   },
   "source": [
    "* Put your explanation here in text..."
   ]
  },
  {
   "cell_type": "markdown",
   "metadata": {
    "id": "NDn6x4FdMQlC"
   },
   "source": [
    "Then put the actual JSON you've created inside the multiline string below..."
   ]
  },
  {
   "cell_type": "code",
   "execution_count": 18,
   "metadata": {
    "id": "1AIb_P8hMQlD"
   },
   "outputs": [],
   "source": [
    "hds5210 = \"\"\"\n",
    "{\n",
    "  \"name\": \"Sirichandana PENUMAKA\",\n",
    "  \"email\": \"sirichandana.penumaka@slu.edu\",\n",
    "  \"year_of_birth\": 1996,\n",
    "  \"grades\": [\n",
    "    { \"week\": \"week2 coding\",  \"type\": \"coding assignment\",  \"grade\": \"10/10\",\n",
    "      \"comment\": \"Setting up Python and keeping variable types straight.\" },\n",
    "    { \"week\": \"week2 review\",  \"type\": \"review assignment\", \"grade\": \"10/10\",\n",
    "      \"comment\": \"Catching small syntax issues and explaining the fixes.\" },\n",
    "    { \"week\": \"week04 coding\", \"type\": \"coding assignment\",  \"grade\": \"10/10\",\n",
    "      \"comment\": \"Working with nested dicts/lists and validating JSON.\" },\n",
    "    { \"week\": \"week04 review\", \"type\": \"review assignment\", \"grade\": \"10/10\",\n",
    "      \"comment\": \"Reading tracebacks to locate logic errors.\" },\n",
    "    { \"week\": \"week05 coding\", \"type\": \"coding assignment\",  \"grade\": \"10/10\",\n",
    "      \"comment\": \"Writing small functions and handling file paths.\" },\n",
    "    { \"week\": \"week05 review\", \"type\": \"review assignment\", \"grade\": \"10/10\",\n",
    "      \"comment\": \"Thinking through edge cases and off-by-one mistakes.\" }\n",
    "  ]\n",
    "}\n",
    "\"\"\"\n",
    "     "
   ]
  },
  {
   "cell_type": "markdown",
   "metadata": {
    "id": "EO6PQmqBMQlH"
   },
   "source": [
    "## 7.2 Do something with your JSON\n",
    "\n",
    "Now use Python code to do something with the Json above.  Turn it into English text, but make sure that you use at least one loop to access some dict or list content of your JSON.  Below, I've provided some basic code to read in the string above as JSON and return a Python object.  Your job is to work with that data structure and print out the important information like your name, email, and how you did on each assignment."
   ]
  },
  {
   "cell_type": "code",
   "execution_count": 19,
   "metadata": {
    "id": "gdbFxaBwMQlJ"
   },
   "outputs": [
    {
     "name": "stdout",
     "output_type": "stream",
     "text": [
      "My name is Sirichandana PENUMAKA. I was born in 1996. My email is sirichandana.penumaka@slu.edu. I have completed 6 assignments. My average so far is 100.0%. Here is how I did on each one: week2 coding (coding assignment): Grade 10/10. Comment: Setting up Python and keeping variable types straight.; week2 review (review assignment): Grade 10/10. Comment: Catching small syntax issues and explaining the fixes.; week04 coding (coding assignment): Grade 10/10. Comment: Working with nested dicts/lists and validating JSON.; week04 review (review assignment): Grade 10/10. Comment: Reading tracebacks to locate logic errors.; week05 coding (coding assignment): Grade 10/10. Comment: Writing small functions and handling file paths.; week05 review (review assignment): Grade 10/10. Comment: Thinking through edge cases and off-by-one mistakes..\n",
      "'\\n{\\n  \"name\": \"Sirichandana PENUMAKA\",\\n  \"email\": \"sirichandana.penumaka@slu.edu\"'\n"
     ]
    }
   ],
   "source": [
    "import json\n",
    "\n",
    "# Parse the JSON string\n",
    "info = json.loads(hds5210.strip())\n",
    "\n",
    "# Grab top-level fields (these match the JSON above)\n",
    "Name  = info['name']\n",
    "Email = info['email']\n",
    "Year_of_Birth = info['year_of_birth']\n",
    "\n",
    "# Build a one-paragraph summary and also print each line using a loop\n",
    "def to_percent(s):\n",
    "    try:\n",
    "        num, den = s.split(\"/\")\n",
    "        return (float(num) / float(den)) * 100.0\n",
    "    except Exception:\n",
    "        return None\n",
    "\n",
    "lines = []\n",
    "percents = []\n",
    "for g in info['grades']:  # <-- this is the required loop\n",
    "    pct = to_percent(g['grade'])\n",
    "    if pct is not None:\n",
    "        percents.append(pct)\n",
    "    lines.append(f\"{g['week']} ({g.get('type','assignment')}): Grade {g['grade']}. Comment: {g['comment']}\")\n",
    "\n",
    "avg_txt = f\" My average so far is {sum(percents)/len(percents):.1f}%.\" if percents else \"\"\n",
    "\n",
    "paragraph = (\n",
    "    f\"My name is {Name}. I was born in {Year_of_Birth}. \"\n",
    "    f\"My email is {Email}. I have completed {len(info['grades'])} assignments.\"\n",
    "    f\"{avg_txt} Here is how I did on each one: \" + \"; \".join(lines) + \".\"\n",
    ")\n",
    "\n",
    "print(paragraph)\n",
    "print(repr(hds5210[:80])) \n"
   ]
  },
  {
   "cell_type": "markdown",
   "metadata": {
    "id": "1XFUb_nHMQlK"
   },
   "source": [
    "## 7.3 Reflect\n",
    "\n",
    "Write a paragraph on any reflections you have. Was this hard? Easy?  What parts were most challenging or easiest? What did you like or dislike about the assignment?  Share whatever important thoughts you have abou this assignment."
   ]
  },
  {
   "cell_type": "markdown",
   "metadata": {
    "id": "8fLAsfWxMQlM"
   },
   "source": [
    "This task offered an excellent chance to practice Python work with JSON formats. While maintaining proper syntax in the JSON file was difficult, processing the data in Python wasn't too difficult. It wasmy first-hand exposure with actual data structures, I particularly liked the practical application of JSON manipulation. JSON was made more clear to me by this task, which also underlined its importance in modern data management and communication methods."
   ]
  },
  {
   "cell_type": "markdown",
   "metadata": {
    "id": "SAhJZJ2dMQlM"
   },
   "source": [
    "---\n",
    "\n",
    "# Example\n",
    "\n",
    "Below is an example of something similar, but this uses information my and my friend's kids instead of grades."
   ]
  },
  {
   "cell_type": "code",
   "execution_count": 17,
   "metadata": {
    "colab": {
     "base_uri": "https://localhost:8080/"
    },
    "id": "JufpaBwLMQlM",
    "outputId": "561d5698-551a-452e-e761-3e77f88e0c25"
   },
   "outputs": [
    {
     "name": "stdout",
     "output_type": "stream",
     "text": [
      "Hi, my name is Tong. I've got 3 cats. Their names are FurryBall, Doggie, MiMi.\n",
      "My friend, Joe has 1 cats. That's fewer than me. Their names are Lucy\n"
     ]
    }
   ],
   "source": [
    "hds5210 = \"\"\"\n",
    "{\n",
    "    \"me\": {\n",
    "        \"name\": \"Tong\",\n",
    "        \"cats\": [\"FurryBall\", \"Doggie\", \"MiMi\"]\n",
    "    },\n",
    "    \"friend\": {\n",
    "        \"name\": \"Joe\",\n",
    "        \"cats\": [\"Lucy\"]\n",
    "    }\n",
    "}\n",
    "\"\"\"\n",
    "\n",
    "import json\n",
    "\n",
    "info = json.loads(hds5210)\n",
    "\n",
    "me = info[\"me\"][\"name\"]\n",
    "my_cats_count = len(info[\"me\"][\"cats\"])\n",
    "cats_list = \", \".join(info[\"me\"][\"cats\"])\n",
    "friend = info[\"friend\"][\"name\"]\n",
    "friends_cat_count = len(info[\"friend\"][\"cats\"])\n",
    "friend_cats = \", \".join(info[\"friend\"][\"cats\"])\n",
    "compare = \"more\" if friends_cat_count > my_cats_count else \"fewer\"\n",
    "\n",
    "print(f\"Hi, my name is {me}. I've got {my_cats_count} cats. Their names are {cats_list}.\")\n",
    "print(f\"My friend, {friend} has {friends_cat_count} cats. That's {compare} than me. Their names are {friend_cats}\")"
   ]
  },
  {
   "cell_type": "code",
   "execution_count": null,
   "metadata": {},
   "outputs": [],
   "source": []
  },
  {
   "cell_type": "code",
   "execution_count": null,
   "metadata": {},
   "outputs": [],
   "source": []
  }
 ],
 "metadata": {
  "colab": {
   "include_colab_link": true,
   "provenance": []
  },
  "kernelspec": {
   "display_name": "Python 3 (ipykernel)",
   "language": "python",
   "name": "python3"
  },
  "language_info": {
   "codemirror_mode": {
    "name": "ipython",
    "version": 3
   },
   "file_extension": ".py",
   "mimetype": "text/x-python",
   "name": "python",
   "nbconvert_exporter": "python",
   "pygments_lexer": "ipython3",
   "version": "3.13.5"
  }
 },
 "nbformat": 4,
 "nbformat_minor": 4
}
