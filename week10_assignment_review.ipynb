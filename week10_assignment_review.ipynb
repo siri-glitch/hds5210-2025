{
  "cells": [
    {
      "cell_type": "markdown",
      "metadata": {
        "id": "view-in-github",
        "colab_type": "text"
      },
      "source": [
        "<a href=\"https://colab.research.google.com/github/Amair350/hds5210-2025/blob/main/week10_assignment_review.ipynb\" target=\"_parent\"><img src=\"https://colab.research.google.com/assets/colab-badge.svg\" alt=\"Open In Colab\"/></a>"
      ]
    },
    {
      "cell_type": "markdown",
      "metadata": {
        "id": "RuJCM_Uk7rEv"
      },
      "source": [
        "# Week 10 Assignment"
      ]
    },
    {
      "cell_type": "markdown",
      "metadata": {
        "id": "but175Gr7rEx"
      },
      "source": [
        "We had two major areas of discussion this week.  The first was all about how to work with string data - parsing and splitting strings using basic string fuctions as well as more complex string matching using regular expressions.  The second was a basic introduction to Pandas with a few different examples of how to load data into Pandas and then visualize it using graphs (histogram, distribution, scatter, bar, timeseries).\n",
        "\n",
        "Test your knowledge of the content from the lectures through the multiple choice questions below.\n",
        "\n",
        "---\n",
        "---"
      ]
    },
    {
      "cell_type": "markdown",
      "metadata": {
        "id": "5n2KzAe87rEy"
      },
      "source": [
        "### 36.1 What is the output of the following code?\n",
        "\n",
        "```python\n",
        "print('hi' * 3)\n",
        "```\n",
        "\n",
        "> A) `hihihi`\n",
        ">\n",
        "> B) `hhhiii`\n",
        ">\n",
        "> C) `hi,hi,hi`\n",
        ">\n",
        "> D) `['hi','hi','hi']`"
      ]
    },
    {
      "cell_type": "code",
      "execution_count": null,
      "metadata": {
        "id": "Soruuvul7rEz"
      },
      "outputs": [],
      "source": [
        "answers = {}\n",
        "answers['36.1'] = \"A\""
      ]
    },
    {
      "cell_type": "markdown",
      "metadata": {
        "id": "wd9ZYb1V7rE0"
      },
      "source": [
        "### 36.2 What is the result of the code below?\n",
        "```python\n",
        "age=10\n",
        "print('Teddy just turned ' + age)\n",
        "```\n",
        "\n",
        "> A) `Teddy just turned 10`\n",
        ">\n",
        "> B) `Teddy just turned X`\n",
        ">\n",
        "> C) `Teddy just turned Teedy just turned Teedy just turned Teedy just turned Teedy just turned Teedy just turned Teedy just turned Teedy just turned Teedy just turned Teedy just turned`\n",
        ">\n",
        "> D) An error message"
      ]
    },
    {
      "cell_type": "code",
      "execution_count": null,
      "metadata": {
        "id": "xByUCWBn7rE0"
      },
      "outputs": [],
      "source": [
        "answers['36.2'] = \"D\""
      ]
    },
    {
      "cell_type": "markdown",
      "metadata": {
        "id": "KmrX_W4H7rE0"
      },
      "source": [
        "### 36.3 How long is the `parts` list that results from the code below?\n",
        "\n",
        "```python\n",
        "parts = \"Now that I'm a data scientist with 1 year of experience,\n",
        "I will have 3,000 new friends!\".split(\", \")\n",
        "```\n",
        "\n",
        "> A) None.  The code will fail.\n",
        ">\n",
        "> B) 2\n",
        ">\n",
        "> C) 3\n",
        ">\n",
        "> D) 4"
      ]
    },
    {
      "cell_type": "code",
      "execution_count": null,
      "metadata": {
        "id": "zXCju6-T7rE1"
      },
      "outputs": [],
      "source": [
        "answers['36.3'] = \"B\""
      ]
    },
    {
      "cell_type": "markdown",
      "metadata": {
        "id": "0VkHzyuG7rE1"
      },
      "source": [
        "### 36.4 How long is the `parts` list that results from the subtly different code below?\n",
        "\n",
        "```python\n",
        "parts = \"Now that I'm a data scientist with 1 year of experience,\n",
        "I will have 3,000 new friends!\".split(\",\")\n",
        "```\n",
        "\n",
        "> A) None.  The code will fail.\n",
        ">\n",
        "> B) 2\n",
        ">\n",
        "> C) 3\n",
        ">\n",
        "> D) 4"
      ]
    },
    {
      "cell_type": "code",
      "execution_count": null,
      "metadata": {
        "id": "D80DaMYX7rE1"
      },
      "outputs": [],
      "source": [
        "answers['36.4'] = \"C\""
      ]
    },
    {
      "cell_type": "markdown",
      "metadata": {
        "id": "AlyGEA3Y7rE1"
      },
      "source": [
        "### 38.1 How do you access a list of all the column names in a data frame?\n",
        "\n",
        "```python\n",
        "data = read_excel('my_file.xlsx')\n",
        "```\n",
        "\n",
        "> A) `len(data)`\n",
        ">\n",
        "> B) `data.shape[0]`\n",
        ">\n",
        "> C) `data.columns`\n",
        ">\n",
        "> D) `data.names`"
      ]
    },
    {
      "cell_type": "code",
      "execution_count": null,
      "metadata": {
        "id": "xFC75ZV77rE1"
      },
      "outputs": [],
      "source": [
        "answers['38.1'] = \"C\""
      ]
    },
    {
      "cell_type": "markdown",
      "metadata": {
        "id": "NLUvgaMp7rE1"
      },
      "source": [
        "### 38.2 Can the following data be converted directly to a dataframe?\n",
        "\n",
        "```python\n",
        "names = [\n",
        "    ['Paul','Boal','E'],\n",
        "    ['Eric','Westhus','D'],\n",
        "    ['Bill','Jones','A']\n",
        "]\n",
        "\n",
        "data = pd.DataFrame(names)\n",
        "```\n",
        "\n",
        "> A) True\n",
        ">\n",
        "> B) False"
      ]
    },
    {
      "cell_type": "code",
      "execution_count": null,
      "metadata": {
        "id": "K4lb7C6a7rE1"
      },
      "outputs": [],
      "source": [
        "answers['38.2'] = \"A\""
      ]
    },
    {
      "cell_type": "markdown",
      "metadata": {
        "id": "zpGUtWiT7rE1"
      },
      "source": [
        "### 38.3 How many rows and columns does the code below produce?\n",
        "```python\n",
        "people = [\n",
        "    { 'first': 'Paul', 'last': 'Boal', 'middle': 'E' },\n",
        "    { 'first': 'Eric', 'last': 'Westhus', 'middle': 'D'},\n",
        "    { 'first': 'Bill', 'last': 'Jones', 'middle': 'A'},\n",
        "    { 'first': 'Walter', 'last': 'Cronkite'},\n",
        "    { 'first': 'Eddie', 'last': 'Murphy'},\n",
        "    { 'first': 'Cher'}\n",
        "]\n",
        "pd.DataFrame(people)\n",
        "```\n",
        "\n",
        "> A) 6 columns, 3 rows\n",
        ">\n",
        "> B) 14 rows, 1 column\n",
        ">\n",
        "> C) 6 rows, 3 columns\n",
        ">\n",
        "> D) Nothing.  It's invalid code."
      ]
    },
    {
      "cell_type": "code",
      "execution_count": null,
      "metadata": {
        "id": "zKsZ6RVv7rE1"
      },
      "outputs": [],
      "source": [
        "answers['38.3'] = \"C\""
      ]
    },
    {
      "cell_type": "markdown",
      "metadata": {
        "id": "cHY7uPF27rE2"
      },
      "source": [
        "---\n",
        "\n",
        "Checking Your Work\n",
        "---\n",
        "\n",
        "After completing your work above and running each cell, you can check your answers by running the code below.\n",
        "\n",
        "The easiest way to do this is to use the `Kernel` -> `Restart Kernel and Run All Cells` menu option. This option restarts Python and runs every cell from top to bottom until it encounters an exception of some kind.  It will stop after running the cell below and outputing a summary of how many answers you have correct or incorrect.\n"
      ]
    },
    {
      "cell_type": "code",
      "source": [
        "import httpimport\n",
        "\n",
        "with httpimport.remote_repo(\n",
        "    'https://gist.githubusercontent.com/TongSii/93c5f2ae241f3e086602c56dac008eca/raw/594f6d0e0bdde937f5a08a7f5393accdfc238dd3/'\n",
        "):\n",
        "    import checker\n",
        "\n",
        "checker.check_hds5210(answers, 'week10')"
      ],
      "metadata": {
        "colab": {
          "base_uri": "https://localhost:8080/"
        },
        "id": "7soqJpVIJUne",
        "outputId": "cc2aade5-ce69-43fd-d9f0-828d3eddb395"
      },
      "execution_count": null,
      "outputs": [
        {
          "output_type": "stream",
          "name": "stdout",
          "text": [
            "✓ Question 36.1: Correct\n",
            "✓ Question 36.2: Correct\n",
            "✓ Question 36.3: Correct\n",
            "✓ Question 36.4: Correct\n",
            "✓ Question 38.1: Correct\n",
            "✓ Question 38.2: Correct\n",
            "✓ Question 38.3: Correct\n",
            "\n",
            "Score: 7/7  (100.0%)\n"
          ]
        },
        {
          "output_type": "execute_result",
          "data": {
            "text/plain": [
              "{'ok': True,\n",
              " 'score': 7,\n",
              " 'total': 7,\n",
              " 'pct': 100.0,\n",
              " 'results': [{'question': '36.1', 'correct': True},\n",
              "  {'question': '36.2', 'correct': True},\n",
              "  {'question': '36.3', 'correct': True},\n",
              "  {'question': '36.4', 'correct': True},\n",
              "  {'question': '38.1', 'correct': True},\n",
              "  {'question': '38.2', 'correct': True},\n",
              "  {'question': '38.3', 'correct': True}]}"
            ]
          },
          "metadata": {},
          "execution_count": 8
        }
      ]
    },
    {
      "cell_type": "markdown",
      "metadata": {
        "id": "sLnGIqyz7rE3"
      },
      "source": [
        "---\n",
        "\n",
        "## Check your work above\n",
        "\n",
        "If you didn't get them all correct, take a few minutes to think through those that aren't correct.\n",
        "\n",
        "\n",
        "## Submitting Your Work\n",
        "\n",
        "As usual, submit your work but running the git command line."
      ]
    },
    {
      "cell_type": "code",
      "execution_count": null,
      "metadata": {
        "id": "C2QBMrVV7rE3"
      },
      "outputs": [],
      "source": []
    }
  ],
  "metadata": {
    "kernelspec": {
      "display_name": "Python 3",
      "language": "python",
      "name": "python3"
    },
    "language_info": {
      "codemirror_mode": {
        "name": "ipython",
        "version": 3
      },
      "file_extension": ".py",
      "mimetype": "text/x-python",
      "name": "python",
      "nbconvert_exporter": "python",
      "pygments_lexer": "ipython3",
      "version": "3.6.7"
    },
    "colab": {
      "provenance": [],
      "include_colab_link": true
    }
  },
  "nbformat": 4,
  "nbformat_minor": 0
}